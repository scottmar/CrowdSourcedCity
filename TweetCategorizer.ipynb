{
 "cells": [
  {
   "cell_type": "code",
   "execution_count": 1,
   "metadata": {
    "collapsed": true
   },
   "outputs": [],
   "source": [
    "import pandas as pd\n",
    "import numpy as np\n",
    "import math"
   ]
  },
  {
   "cell_type": "code",
   "execution_count": 2,
   "metadata": {
    "collapsed": false
   },
   "outputs": [
    {
     "data": {
      "text/html": [
       "<div>\n",
       "<table border=\"1\" class=\"dataframe\">\n",
       "  <thead>\n",
       "    <tr style=\"text-align: right;\">\n",
       "      <th></th>\n",
       "      <th>id</th>\n",
       "      <th>created</th>\n",
       "      <th>text</th>\n",
       "      <th>lat</th>\n",
       "      <th>long</th>\n",
       "      <th>category</th>\n",
       "    </tr>\n",
       "  </thead>\n",
       "  <tbody>\n",
       "    <tr>\n",
       "      <th>0</th>\n",
       "      <td>7.088640e+17</td>\n",
       "      <td>3/13/2016 3:57</td>\n",
       "      <td>06:56 @KenyaRedCross bad accident on Waiyaki W...</td>\n",
       "      <td>0</td>\n",
       "      <td>0</td>\n",
       "      <td>NONE</td>\n",
       "    </tr>\n",
       "    <tr>\n",
       "      <th>1</th>\n",
       "      <td>7.088560e+17</td>\n",
       "      <td>3/13/2016 3:24</td>\n",
       "      <td>06:23 ma3route there is an accident along msa ...</td>\n",
       "      <td>0</td>\n",
       "      <td>0</td>\n",
       "      <td>NONE</td>\n",
       "    </tr>\n",
       "    <tr>\n",
       "      <th>2</th>\n",
       "      <td>7.088020e+17</td>\n",
       "      <td>3/12/2016 23:48</td>\n",
       "      <td>02:47 Accident, Langata road. Pedestrian kille...</td>\n",
       "      <td>0</td>\n",
       "      <td>0</td>\n",
       "      <td>NONE</td>\n",
       "    </tr>\n",
       "    <tr>\n",
       "      <th>3</th>\n",
       "      <td>7.087740e+17</td>\n",
       "      <td>3/12/2016 21:56</td>\n",
       "      <td>00:55 are people blowing on KIAMBU ROAD? via @...</td>\n",
       "      <td>0</td>\n",
       "      <td>0</td>\n",
       "      <td>NONE</td>\n",
       "    </tr>\n",
       "    <tr>\n",
       "      <th>4</th>\n",
       "      <td>7.087630e+17</td>\n",
       "      <td>3/12/2016 21:14</td>\n",
       "      <td>00:14 someone knocked down and died on the spo...</td>\n",
       "      <td>0</td>\n",
       "      <td>0</td>\n",
       "      <td>NONE</td>\n",
       "    </tr>\n",
       "    <tr>\n",
       "      <th>5</th>\n",
       "      <td>7.087610e+17</td>\n",
       "      <td>3/12/2016 21:07</td>\n",
       "      <td>00:07 accident at the Junction towards Carnivo...</td>\n",
       "      <td>0</td>\n",
       "      <td>0</td>\n",
       "      <td>NONE</td>\n",
       "    </tr>\n",
       "    <tr>\n",
       "      <th>6</th>\n",
       "      <td>7.087590e+17</td>\n",
       "      <td>3/12/2016 20:58</td>\n",
       "      <td>23:57 @IkeOjuok The inhuman acts by police are...</td>\n",
       "      <td>0</td>\n",
       "      <td>0</td>\n",
       "      <td>NONE</td>\n",
       "    </tr>\n",
       "    <tr>\n",
       "      <th>7</th>\n",
       "      <td>7.087540e+17</td>\n",
       "      <td>3/12/2016 20:37</td>\n",
       "      <td>23:37 SHARE and remind a family member or a fr...</td>\n",
       "      <td>0</td>\n",
       "      <td>0</td>\n",
       "      <td>NONE</td>\n",
       "    </tr>\n",
       "    <tr>\n",
       "      <th>8</th>\n",
       "      <td>7.087480e+17</td>\n",
       "      <td>3/12/2016 20:16</td>\n",
       "      <td>23:15 FYA  https://t.co/zf57m5lq2P via @IkeOjuok</td>\n",
       "      <td>0</td>\n",
       "      <td>0</td>\n",
       "      <td>NONE</td>\n",
       "    </tr>\n",
       "    <tr>\n",
       "      <th>9</th>\n",
       "      <td>7.087480e+17</td>\n",
       "      <td>3/12/2016 20:15</td>\n",
       "      <td>23:15 The wreckage of the #SubuigaAccident  ht...</td>\n",
       "      <td>0</td>\n",
       "      <td>0</td>\n",
       "      <td>NONE</td>\n",
       "    </tr>\n",
       "    <tr>\n",
       "      <th>10</th>\n",
       "      <td>7.087470e+17</td>\n",
       "      <td>3/12/2016 20:10</td>\n",
       "      <td>23:09 @NPSOfficial_KE When you see in Nairobi ...</td>\n",
       "      <td>0</td>\n",
       "      <td>0</td>\n",
       "      <td>NONE</td>\n",
       "    </tr>\n",
       "    <tr>\n",
       "      <th>11</th>\n",
       "      <td>7.087460e+17</td>\n",
       "      <td>3/12/2016 20:06</td>\n",
       "      <td>23:05 Woiiiiii this Dohny roundabout will fini...</td>\n",
       "      <td>0</td>\n",
       "      <td>0</td>\n",
       "      <td>NONE</td>\n",
       "    </tr>\n",
       "    <tr>\n",
       "      <th>12</th>\n",
       "      <td>7.087440e+17</td>\n",
       "      <td>3/12/2016 19:56</td>\n",
       "      <td>22:56 KAS 845S Mathree....Respect The Lights p...</td>\n",
       "      <td>0</td>\n",
       "      <td>0</td>\n",
       "      <td>NONE</td>\n",
       "    </tr>\n",
       "    <tr>\n",
       "      <th>13</th>\n",
       "      <td>7.087410e+17</td>\n",
       "      <td>3/12/2016 19:47</td>\n",
       "      <td>22:47 Wen guy tries 2 b romantic &amp;amp; go to p...</td>\n",
       "      <td>0</td>\n",
       "      <td>0</td>\n",
       "      <td>NONE</td>\n",
       "    </tr>\n",
       "    <tr>\n",
       "      <th>14</th>\n",
       "      <td>7.087410e+17</td>\n",
       "      <td>3/12/2016 19:45</td>\n",
       "      <td>22:45 what outering road looks like  https://t...</td>\n",
       "      <td>0</td>\n",
       "      <td>0</td>\n",
       "      <td>NONE</td>\n",
       "    </tr>\n",
       "  </tbody>\n",
       "</table>\n",
       "</div>"
      ],
      "text/plain": [
       "              id          created  \\\n",
       "0   7.088640e+17   3/13/2016 3:57   \n",
       "1   7.088560e+17   3/13/2016 3:24   \n",
       "2   7.088020e+17  3/12/2016 23:48   \n",
       "3   7.087740e+17  3/12/2016 21:56   \n",
       "4   7.087630e+17  3/12/2016 21:14   \n",
       "5   7.087610e+17  3/12/2016 21:07   \n",
       "6   7.087590e+17  3/12/2016 20:58   \n",
       "7   7.087540e+17  3/12/2016 20:37   \n",
       "8   7.087480e+17  3/12/2016 20:16   \n",
       "9   7.087480e+17  3/12/2016 20:15   \n",
       "10  7.087470e+17  3/12/2016 20:10   \n",
       "11  7.087460e+17  3/12/2016 20:06   \n",
       "12  7.087440e+17  3/12/2016 19:56   \n",
       "13  7.087410e+17  3/12/2016 19:47   \n",
       "14  7.087410e+17  3/12/2016 19:45   \n",
       "\n",
       "                                                 text  lat  long category  \n",
       "0   06:56 @KenyaRedCross bad accident on Waiyaki W...    0     0     NONE  \n",
       "1   06:23 ma3route there is an accident along msa ...    0     0     NONE  \n",
       "2   02:47 Accident, Langata road. Pedestrian kille...    0     0     NONE  \n",
       "3   00:55 are people blowing on KIAMBU ROAD? via @...    0     0     NONE  \n",
       "4   00:14 someone knocked down and died on the spo...    0     0     NONE  \n",
       "5   00:07 accident at the Junction towards Carnivo...    0     0     NONE  \n",
       "6   23:57 @IkeOjuok The inhuman acts by police are...    0     0     NONE  \n",
       "7   23:37 SHARE and remind a family member or a fr...    0     0     NONE  \n",
       "8    23:15 FYA  https://t.co/zf57m5lq2P via @IkeOjuok    0     0     NONE  \n",
       "9   23:15 The wreckage of the #SubuigaAccident  ht...    0     0     NONE  \n",
       "10  23:09 @NPSOfficial_KE When you see in Nairobi ...    0     0     NONE  \n",
       "11  23:05 Woiiiiii this Dohny roundabout will fini...    0     0     NONE  \n",
       "12  22:56 KAS 845S Mathree....Respect The Lights p...    0     0     NONE  \n",
       "13  22:47 Wen guy tries 2 b romantic &amp; go to p...    0     0     NONE  \n",
       "14  22:45 what outering road looks like  https://t...    0     0     NONE  "
      ]
     },
     "execution_count": 2,
     "metadata": {},
     "output_type": "execute_result"
    }
   ],
   "source": [
    "tweet_list = pd.read_csv('TweetTest_Unmatched.csv')\n",
    "tweet_list[:15]"
   ]
  },
  {
   "cell_type": "code",
   "execution_count": 3,
   "metadata": {
    "collapsed": false
   },
   "outputs": [
    {
     "data": {
      "text/html": [
       "<div>\n",
       "<table border=\"1\" class=\"dataframe\">\n",
       "  <thead>\n",
       "    <tr style=\"text-align: right;\">\n",
       "      <th></th>\n",
       "      <th>Word</th>\n",
       "      <th>Category</th>\n",
       "    </tr>\n",
       "  </thead>\n",
       "  <tbody>\n",
       "    <tr>\n",
       "      <th>0</th>\n",
       "      <td>heavy traffic</td>\n",
       "      <td>traffic</td>\n",
       "    </tr>\n",
       "    <tr>\n",
       "      <th>1</th>\n",
       "      <td>traffic jam</td>\n",
       "      <td>traffic</td>\n",
       "    </tr>\n",
       "    <tr>\n",
       "      <th>2</th>\n",
       "      <td>jam</td>\n",
       "      <td>traffic</td>\n",
       "    </tr>\n",
       "    <tr>\n",
       "      <th>3</th>\n",
       "      <td>jams</td>\n",
       "      <td>traffic</td>\n",
       "    </tr>\n",
       "    <tr>\n",
       "      <th>4</th>\n",
       "      <td>bumper</td>\n",
       "      <td>traffic</td>\n",
       "    </tr>\n",
       "    <tr>\n",
       "      <th>5</th>\n",
       "      <td>slow traffic</td>\n",
       "      <td>traffic</td>\n",
       "    </tr>\n",
       "    <tr>\n",
       "      <th>6</th>\n",
       "      <td>mfululizo wa magari</td>\n",
       "      <td>traffic</td>\n",
       "    </tr>\n",
       "    <tr>\n",
       "      <th>7</th>\n",
       "      <td>magari hazisongi</td>\n",
       "      <td>traffic</td>\n",
       "    </tr>\n",
       "    <tr>\n",
       "      <th>8</th>\n",
       "      <td>kuna jam</td>\n",
       "      <td>traffic</td>\n",
       "    </tr>\n",
       "    <tr>\n",
       "      <th>9</th>\n",
       "      <td>accident</td>\n",
       "      <td>accident</td>\n",
       "    </tr>\n",
       "    <tr>\n",
       "      <th>10</th>\n",
       "      <td>accidents</td>\n",
       "      <td>accident</td>\n",
       "    </tr>\n",
       "    <tr>\n",
       "      <th>11</th>\n",
       "      <td>wreckage</td>\n",
       "      <td>accident</td>\n",
       "    </tr>\n",
       "    <tr>\n",
       "      <th>12</th>\n",
       "      <td>wreck</td>\n",
       "      <td>accident</td>\n",
       "    </tr>\n",
       "    <tr>\n",
       "      <th>13</th>\n",
       "      <td>collision</td>\n",
       "      <td>accident</td>\n",
       "    </tr>\n",
       "    <tr>\n",
       "      <th>14</th>\n",
       "      <td>crash</td>\n",
       "      <td>accident</td>\n",
       "    </tr>\n",
       "  </tbody>\n",
       "</table>\n",
       "</div>"
      ],
      "text/plain": [
       "                   Word  Category\n",
       "0         heavy traffic   traffic\n",
       "1           traffic jam   traffic\n",
       "2                   jam   traffic\n",
       "3                  jams   traffic\n",
       "4                bumper   traffic\n",
       "5          slow traffic   traffic\n",
       "6   mfululizo wa magari   traffic\n",
       "7      magari hazisongi   traffic\n",
       "8              kuna jam   traffic\n",
       "9              accident  accident\n",
       "10            accidents  accident\n",
       "11             wreckage  accident\n",
       "12                wreck  accident\n",
       "13            collision  accident\n",
       "14                crash  accident"
      ]
     },
     "execution_count": 3,
     "metadata": {},
     "output_type": "execute_result"
    }
   ],
   "source": [
    "category_list = pd.read_csv('tweet_categories.csv')\n",
    "category_list[:15]"
   ]
  },
  {
   "cell_type": "code",
   "execution_count": 4,
   "metadata": {
    "collapsed": false
   },
   "outputs": [],
   "source": [
    "# Find out how many tweets are missing category info\n",
    "\n",
    "def sum_category(df):\n",
    "    i=0\n",
    "    j=0\n",
    "    for row in df.itertuples():\n",
    "        if row[6]=='NONE':\n",
    "            i+=1\n",
    "        else:\n",
    "            j+=1\n",
    "    return str(j)+\" have a category, \"+str(i)+\" do not\"\n"
   ]
  },
  {
   "cell_type": "code",
   "execution_count": 5,
   "metadata": {
    "collapsed": false
   },
   "outputs": [
    {
     "name": "stdout",
     "output_type": "stream",
     "text": [
      "0 have a category, 3163 do not\n"
     ]
    }
   ],
   "source": [
    "print sum_category(tweet_list)"
   ]
  },
  {
   "cell_type": "code",
   "execution_count": 6,
   "metadata": {
    "collapsed": true
   },
   "outputs": [],
   "source": [
    "# This function goes through each entry in category_list and looks for it in the passed string\n",
    "# When it finds a match, it returns the associated category name\n",
    "# It ignores case. If there are multiple matches only the last one will be returned\n",
    "\n",
    "def check_category(test_string):\n",
    "    result = 'NONE'\n",
    "    for keyword in category_list.itertuples():\n",
    "        if str(keyword[1]).lower() in test_string.lower():\n",
    "            result = keyword[2]\n",
    "    return result"
   ]
  },
  {
   "cell_type": "code",
   "execution_count": 7,
   "metadata": {
    "collapsed": false
   },
   "outputs": [
    {
     "name": "stdout",
     "output_type": "stream",
     "text": [
      "traffic\n",
      "traffic\n",
      "accident\n",
      "NONE\n"
     ]
    }
   ],
   "source": [
    "print check_category('jams')\n",
    "print check_category('JAMs')\n",
    "print check_category('jams and crashes today')\n",
    "print check_category('no keywords')"
   ]
  },
  {
   "cell_type": "code",
   "execution_count": 8,
   "metadata": {
    "collapsed": false
   },
   "outputs": [],
   "source": [
    "# Replace any missing categories, if a match was found\n",
    "def fill_in_categories(df, cat_col=5):\n",
    "    for row in df.itertuples():\n",
    "        idx = row[0]\n",
    "        category = check_category(str(row[3]))\n",
    "        if row[6]=='NONE':\n",
    "            df.iloc[idx,cat_col] = category"
   ]
  },
  {
   "cell_type": "code",
   "execution_count": 9,
   "metadata": {
    "collapsed": true
   },
   "outputs": [],
   "source": [
    "fill_in_categories(tweet_list)"
   ]
  },
  {
   "cell_type": "code",
   "execution_count": 10,
   "metadata": {
    "collapsed": false
   },
   "outputs": [
    {
     "name": "stdout",
     "output_type": "stream",
     "text": [
      "524 have a category, 2639 do not\n"
     ]
    }
   ],
   "source": [
    "# check to see how many we fixed\n",
    "\n",
    "print sum_category(tweet_list)"
   ]
  },
  {
   "cell_type": "code",
   "execution_count": 11,
   "metadata": {
    "collapsed": true
   },
   "outputs": [],
   "source": [
    "# Add code here to output to the format of your choice\n",
    "\n",
    "tweet_list.to_csv(\"processed_tweets.csv\", index=False)"
   ]
  },
  {
   "cell_type": "code",
   "execution_count": null,
   "metadata": {
    "collapsed": true
   },
   "outputs": [],
   "source": []
  }
 ],
 "metadata": {
  "kernelspec": {
   "display_name": "Python 2",
   "language": "python",
   "name": "python2"
  },
  "language_info": {
   "codemirror_mode": {
    "name": "ipython",
    "version": 2
   },
   "file_extension": ".py",
   "mimetype": "text/x-python",
   "name": "python",
   "nbconvert_exporter": "python",
   "pygments_lexer": "ipython2",
   "version": "2.7.11"
  }
 },
 "nbformat": 4,
 "nbformat_minor": 0
}
