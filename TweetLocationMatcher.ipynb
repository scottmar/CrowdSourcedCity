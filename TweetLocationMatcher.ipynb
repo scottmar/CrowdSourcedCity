{
 "cells": [
  {
   "cell_type": "code",
   "execution_count": 1,
   "metadata": {
    "collapsed": true
   },
   "outputs": [],
   "source": [
    "import pandas as pd\n",
    "import math"
   ]
  },
  {
   "cell_type": "code",
   "execution_count": 2,
   "metadata": {
    "collapsed": false
   },
   "outputs": [],
   "source": [
    "# import the files as dataframes\n",
    "# Customize this based on where the data is coming from\n",
    "\n",
    "location_list = pd.read_csv('LMFull.csv')\n",
    "tweet_list = pd.read_csv('processed_tweets.csv')\n"
   ]
  },
  {
   "cell_type": "code",
   "execution_count": 3,
   "metadata": {
    "collapsed": false
   },
   "outputs": [
    {
     "name": "stdout",
     "output_type": "stream",
     "text": [
      "# of tweets: 3163\n",
      "# of landmarks: 1555\n"
     ]
    }
   ],
   "source": [
    "print \"# of tweets: \" + str(len(tweet_list))\n",
    "print \"# of landmarks: \" + str(len(location_list))\n"
   ]
  },
  {
   "cell_type": "code",
   "execution_count": 4,
   "metadata": {
    "collapsed": false
   },
   "outputs": [
    {
     "data": {
      "text/html": [
       "<div>\n",
       "<table border=\"1\" class=\"dataframe\">\n",
       "  <thead>\n",
       "    <tr style=\"text-align: right;\">\n",
       "      <th></th>\n",
       "      <th>id</th>\n",
       "      <th>created</th>\n",
       "      <th>text</th>\n",
       "      <th>lat</th>\n",
       "      <th>long</th>\n",
       "      <th>category</th>\n",
       "    </tr>\n",
       "  </thead>\n",
       "  <tbody>\n",
       "    <tr>\n",
       "      <th>0</th>\n",
       "      <td>7.090000e+17</td>\n",
       "      <td>3/13/2016 3:57</td>\n",
       "      <td>06:56 @KenyaRedCross bad accident on Waiyaki W...</td>\n",
       "      <td>0</td>\n",
       "      <td>0</td>\n",
       "      <td>accident</td>\n",
       "    </tr>\n",
       "    <tr>\n",
       "      <th>1</th>\n",
       "      <td>7.090000e+17</td>\n",
       "      <td>3/13/2016 3:24</td>\n",
       "      <td>06:23 ma3route there is an accident along msa ...</td>\n",
       "      <td>0</td>\n",
       "      <td>0</td>\n",
       "      <td>accident</td>\n",
       "    </tr>\n",
       "    <tr>\n",
       "      <th>2</th>\n",
       "      <td>7.090000e+17</td>\n",
       "      <td>3/12/2016 23:48</td>\n",
       "      <td>02:47 Accident, Langata road. Pedestrian kille...</td>\n",
       "      <td>0</td>\n",
       "      <td>0</td>\n",
       "      <td>accident</td>\n",
       "    </tr>\n",
       "    <tr>\n",
       "      <th>3</th>\n",
       "      <td>7.090000e+17</td>\n",
       "      <td>3/12/2016 21:56</td>\n",
       "      <td>00:55 are people blowing on KIAMBU ROAD? via @...</td>\n",
       "      <td>0</td>\n",
       "      <td>0</td>\n",
       "      <td>NONE</td>\n",
       "    </tr>\n",
       "    <tr>\n",
       "      <th>4</th>\n",
       "      <td>7.090000e+17</td>\n",
       "      <td>3/12/2016 21:14</td>\n",
       "      <td>00:14 someone knocked down and died on the spo...</td>\n",
       "      <td>0</td>\n",
       "      <td>0</td>\n",
       "      <td>NONE</td>\n",
       "    </tr>\n",
       "    <tr>\n",
       "      <th>5</th>\n",
       "      <td>7.090000e+17</td>\n",
       "      <td>3/12/2016 21:07</td>\n",
       "      <td>00:07 accident at the Junction towards Carnivo...</td>\n",
       "      <td>0</td>\n",
       "      <td>0</td>\n",
       "      <td>accident</td>\n",
       "    </tr>\n",
       "    <tr>\n",
       "      <th>6</th>\n",
       "      <td>7.090000e+17</td>\n",
       "      <td>3/12/2016 20:58</td>\n",
       "      <td>23:57 @IkeOjuok The inhuman acts by police are...</td>\n",
       "      <td>0</td>\n",
       "      <td>0</td>\n",
       "      <td>NONE</td>\n",
       "    </tr>\n",
       "    <tr>\n",
       "      <th>7</th>\n",
       "      <td>7.090000e+17</td>\n",
       "      <td>3/12/2016 20:37</td>\n",
       "      <td>23:37 SHARE and remind a family member or a fr...</td>\n",
       "      <td>0</td>\n",
       "      <td>0</td>\n",
       "      <td>NONE</td>\n",
       "    </tr>\n",
       "    <tr>\n",
       "      <th>8</th>\n",
       "      <td>7.090000e+17</td>\n",
       "      <td>3/12/2016 20:16</td>\n",
       "      <td>23:15 FYA  https://t.co/zf57m5lq2P via @IkeOjuok</td>\n",
       "      <td>0</td>\n",
       "      <td>0</td>\n",
       "      <td>NONE</td>\n",
       "    </tr>\n",
       "    <tr>\n",
       "      <th>9</th>\n",
       "      <td>7.090000e+17</td>\n",
       "      <td>3/12/2016 20:15</td>\n",
       "      <td>23:15 The wreckage of the #SubuigaAccident  ht...</td>\n",
       "      <td>0</td>\n",
       "      <td>0</td>\n",
       "      <td>accident</td>\n",
       "    </tr>\n",
       "  </tbody>\n",
       "</table>\n",
       "</div>"
      ],
      "text/plain": [
       "             id          created  \\\n",
       "0  7.090000e+17   3/13/2016 3:57   \n",
       "1  7.090000e+17   3/13/2016 3:24   \n",
       "2  7.090000e+17  3/12/2016 23:48   \n",
       "3  7.090000e+17  3/12/2016 21:56   \n",
       "4  7.090000e+17  3/12/2016 21:14   \n",
       "5  7.090000e+17  3/12/2016 21:07   \n",
       "6  7.090000e+17  3/12/2016 20:58   \n",
       "7  7.090000e+17  3/12/2016 20:37   \n",
       "8  7.090000e+17  3/12/2016 20:16   \n",
       "9  7.090000e+17  3/12/2016 20:15   \n",
       "\n",
       "                                                text  lat  long  category  \n",
       "0  06:56 @KenyaRedCross bad accident on Waiyaki W...    0     0  accident  \n",
       "1  06:23 ma3route there is an accident along msa ...    0     0  accident  \n",
       "2  02:47 Accident, Langata road. Pedestrian kille...    0     0  accident  \n",
       "3  00:55 are people blowing on KIAMBU ROAD? via @...    0     0      NONE  \n",
       "4  00:14 someone knocked down and died on the spo...    0     0      NONE  \n",
       "5  00:07 accident at the Junction towards Carnivo...    0     0  accident  \n",
       "6  23:57 @IkeOjuok The inhuman acts by police are...    0     0      NONE  \n",
       "7  23:37 SHARE and remind a family member or a fr...    0     0      NONE  \n",
       "8   23:15 FYA  https://t.co/zf57m5lq2P via @IkeOjuok    0     0      NONE  \n",
       "9  23:15 The wreckage of the #SubuigaAccident  ht...    0     0  accident  "
      ]
     },
     "execution_count": 4,
     "metadata": {},
     "output_type": "execute_result"
    }
   ],
   "source": [
    "tweet_list[:10]"
   ]
  },
  {
   "cell_type": "code",
   "execution_count": 5,
   "metadata": {
    "collapsed": false
   },
   "outputs": [
    {
     "data": {
      "text/html": [
       "<div>\n",
       "<table border=\"1\" class=\"dataframe\">\n",
       "  <thead>\n",
       "    <tr style=\"text-align: right;\">\n",
       "      <th></th>\n",
       "      <th>Landmark</th>\n",
       "      <th>Road</th>\n",
       "      <th>Landmark_road</th>\n",
       "      <th>Lat</th>\n",
       "      <th>Lon</th>\n",
       "    </tr>\n",
       "  </thead>\n",
       "  <tbody>\n",
       "    <tr>\n",
       "      <th>0</th>\n",
       "      <td>87</td>\n",
       "      <td>Waiyaki Way</td>\n",
       "      <td>87 Waiyaki Way</td>\n",
       "      <td>-1.257841</td>\n",
       "      <td>36.700929</td>\n",
       "    </tr>\n",
       "    <tr>\n",
       "      <th>1</th>\n",
       "      <td>1824</td>\n",
       "      <td>NaN</td>\n",
       "      <td>1824</td>\n",
       "      <td>-1.322725</td>\n",
       "      <td>36.803513</td>\n",
       "    </tr>\n",
       "    <tr>\n",
       "      <th>2</th>\n",
       "      <td>1st Parklands Junction</td>\n",
       "      <td>Masari Rd</td>\n",
       "      <td>1st Parklands Junction Masari Rd</td>\n",
       "      <td>-1.263199</td>\n",
       "      <td>36.815862</td>\n",
       "    </tr>\n",
       "    <tr>\n",
       "      <th>3</th>\n",
       "      <td>1st Parklands Junction</td>\n",
       "      <td>Masari Road</td>\n",
       "      <td>1st Parklands Junction Masari Road</td>\n",
       "      <td>-1.263199</td>\n",
       "      <td>36.815862</td>\n",
       "    </tr>\n",
       "    <tr>\n",
       "      <th>4</th>\n",
       "      <td>87 stage</td>\n",
       "      <td>Waiyaki Way</td>\n",
       "      <td>87 stage Waiyaki Way</td>\n",
       "      <td>-1.257841</td>\n",
       "      <td>36.700929</td>\n",
       "    </tr>\n",
       "    <tr>\n",
       "      <th>5</th>\n",
       "      <td>abc</td>\n",
       "      <td>Waiyaki Way</td>\n",
       "      <td>abc   Waiyaki Way</td>\n",
       "      <td>-1.259264</td>\n",
       "      <td>36.776663</td>\n",
       "    </tr>\n",
       "    <tr>\n",
       "      <th>6</th>\n",
       "      <td>ABC Place</td>\n",
       "      <td>Waiyaki Way</td>\n",
       "      <td>ABC Place Waiyaki Way</td>\n",
       "      <td>-1.259264</td>\n",
       "      <td>36.776663</td>\n",
       "    </tr>\n",
       "    <tr>\n",
       "      <th>7</th>\n",
       "      <td>Adams Arcade</td>\n",
       "      <td>Ngong Rd</td>\n",
       "      <td>Adams Arcade Ngong Rd</td>\n",
       "      <td>-1.300039</td>\n",
       "      <td>36.780856</td>\n",
       "    </tr>\n",
       "    <tr>\n",
       "      <th>8</th>\n",
       "      <td>Adams Arcade</td>\n",
       "      <td>Ngong Road</td>\n",
       "      <td>Adams Arcade Ngong Road</td>\n",
       "      <td>-1.300039</td>\n",
       "      <td>36.780856</td>\n",
       "    </tr>\n",
       "    <tr>\n",
       "      <th>9</th>\n",
       "      <td>adams roundabout</td>\n",
       "      <td>NaN</td>\n",
       "      <td>adams roundabout</td>\n",
       "      <td>-1.300065</td>\n",
       "      <td>36.779716</td>\n",
       "    </tr>\n",
       "  </tbody>\n",
       "</table>\n",
       "</div>"
      ],
      "text/plain": [
       "                 Landmark         Road                       Landmark_road  \\\n",
       "0                      87  Waiyaki Way                      87 Waiyaki Way   \n",
       "1                    1824          NaN                               1824    \n",
       "2  1st Parklands Junction    Masari Rd    1st Parklands Junction Masari Rd   \n",
       "3  1st Parklands Junction  Masari Road  1st Parklands Junction Masari Road   \n",
       "4                87 stage  Waiyaki Way                87 stage Waiyaki Way   \n",
       "5                   abc    Waiyaki Way                   abc   Waiyaki Way   \n",
       "6               ABC Place  Waiyaki Way               ABC Place Waiyaki Way   \n",
       "7            Adams Arcade     Ngong Rd               Adams Arcade Ngong Rd   \n",
       "8            Adams Arcade   Ngong Road             Adams Arcade Ngong Road   \n",
       "9        adams roundabout          NaN                   adams roundabout    \n",
       "\n",
       "         Lat        Lon  \n",
       "0  -1.257841  36.700929  \n",
       "1  -1.322725  36.803513  \n",
       "2  -1.263199  36.815862  \n",
       "3  -1.263199  36.815862  \n",
       "4  -1.257841  36.700929  \n",
       "5  -1.259264  36.776663  \n",
       "6  -1.259264  36.776663  \n",
       "7  -1.300039  36.780856  \n",
       "8  -1.300039  36.780856  \n",
       "9  -1.300065  36.779716  "
      ]
     },
     "execution_count": 5,
     "metadata": {},
     "output_type": "execute_result"
    }
   ],
   "source": [
    "location_list[:10]"
   ]
  },
  {
   "cell_type": "code",
   "execution_count": 6,
   "metadata": {
    "collapsed": false
   },
   "outputs": [],
   "source": [
    "# Find out how many tweets are missing geo info\n",
    "\n",
    "def sum_locations(df):\n",
    "    i=0\n",
    "    j=0\n",
    "    for row in df.itertuples():\n",
    "        if row[4]==0 or row[5]==0:\n",
    "            i+=1\n",
    "        else:\n",
    "            j+=1\n",
    "    return str(j)+\" have lat-long data, \"+str(i)+\" don't\"\n"
   ]
  },
  {
   "cell_type": "code",
   "execution_count": 7,
   "metadata": {
    "collapsed": false
   },
   "outputs": [
    {
     "name": "stdout",
     "output_type": "stream",
     "text": [
      "0 have lat-long data, 3163 don't\n"
     ]
    }
   ],
   "source": [
    "print sum_locations(tweet_list)"
   ]
  },
  {
   "cell_type": "code",
   "execution_count": 8,
   "metadata": {
    "collapsed": true
   },
   "outputs": [],
   "source": [
    "# This function goes through each entry in location_list and looks for it in the passed string\n",
    "# When it finds a match, it returns the associated lat-long as a dict\n",
    "# It ignores case. If there are multiple matches only the last one will be returned\n",
    "\n",
    "def check_landmark(test_string):\n",
    "    result = {'lat':'NONE','lon':'NONE'}\n",
    "    for landmark in location_list.itertuples():\n",
    "        if str(landmark[1]).lower() in test_string.lower():\n",
    "            result = {'lat':landmark[4],'lon':landmark[5]}\n",
    "    return result"
   ]
  },
  {
   "cell_type": "code",
   "execution_count": 9,
   "metadata": {
    "collapsed": false
   },
   "outputs": [
    {
     "name": "stdout",
     "output_type": "stream",
     "text": [
      "{'lat': '-1.259264', 'lon': 36.776662999999999}\n",
      "{'lat': '-1.259264', 'lon': 36.776662999999999}\n",
      "{'lat': '-1.300039', 'lon': 36.780856}\n",
      "{'lat': 'NONE', 'lon': 'NONE'}\n"
     ]
    }
   ],
   "source": [
    "print check_landmark('abc place')\n",
    "print check_landmark('ABC place')\n",
    "print check_landmark('ABC place and Adams Arcade')\n",
    "print check_landmark('fake name')"
   ]
  },
  {
   "cell_type": "code",
   "execution_count": 10,
   "metadata": {
    "collapsed": false
   },
   "outputs": [],
   "source": [
    "# Now use the function on every tweet that is missing geo data\n",
    "# Any missing lat-long values are replaced by matched ones from location_list\n",
    "# 'NONE' is filled in if no location match was found\n",
    "def fill_in_locations(df, lat_col=3, lon_col=4):\n",
    "    for row in df.itertuples():\n",
    "        idx = row[0]\n",
    "        location = check_landmark(str(row[3]))\n",
    "        if (row[4]==0 or row[5]==0):\n",
    "            df.iloc[idx,lat_col] = location['lat']\n",
    "            df.iloc[idx,lon_col] = location['lon']"
   ]
  },
  {
   "cell_type": "code",
   "execution_count": 11,
   "metadata": {
    "collapsed": true
   },
   "outputs": [],
   "source": [
    "fill_in_locations(tweet_list)"
   ]
  },
  {
   "cell_type": "code",
   "execution_count": 12,
   "metadata": {
    "collapsed": false
   },
   "outputs": [
    {
     "name": "stdout",
     "output_type": "stream",
     "text": [
      "1389 have lat-long data, 1774 don't\n"
     ]
    }
   ],
   "source": [
    "# Check to see how many we fixed\n",
    "\n",
    "m=0\n",
    "n=0\n",
    "for row in tweet_list.itertuples():\n",
    "    if row[4]=='NONE' or row[5]=='NONE':\n",
    "        m+=1\n",
    "    else:\n",
    "        n+=1\n",
    "\n",
    "print str(n)+\" have lat-long data, \"+str(m)+\" don't\""
   ]
  },
  {
   "cell_type": "code",
   "execution_count": null,
   "metadata": {
    "collapsed": false
   },
   "outputs": [],
   "source": [
    "tweet_list[:50]"
   ]
  },
  {
   "cell_type": "code",
   "execution_count": 13,
   "metadata": {
    "collapsed": true
   },
   "outputs": [],
   "source": [
    "# Add code here to export the dataframe to a file or database of your choice\n",
    "\n",
    "tweet_list.to_csv('matched_tweets.csv', index=False)"
   ]
  },
  {
   "cell_type": "code",
   "execution_count": null,
   "metadata": {
    "collapsed": true
   },
   "outputs": [],
   "source": []
  }
 ],
 "metadata": {
  "kernelspec": {
   "display_name": "Python 2",
   "language": "python",
   "name": "python2"
  },
  "language_info": {
   "codemirror_mode": {
    "name": "ipython",
    "version": 2
   },
   "file_extension": ".py",
   "mimetype": "text/x-python",
   "name": "python",
   "nbconvert_exporter": "python",
   "pygments_lexer": "ipython2",
   "version": "2.7.11"
  }
 },
 "nbformat": 4,
 "nbformat_minor": 0
}
