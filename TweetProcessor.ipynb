{
 "cells": [
  {
   "cell_type": "code",
   "execution_count": 1,
   "metadata": {
    "collapsed": true
   },
   "outputs": [],
   "source": [
    "import pandas as pd"
   ]
  },
  {
   "cell_type": "code",
   "execution_count": 2,
   "metadata": {
    "collapsed": true
   },
   "outputs": [],
   "source": [
    "# import the files as dataframes\n",
    "\n",
    "location_list = pd.read_csv('LMFull.csv')\n",
    "category_list = pd.read_csv('tweet_categories.csv')\n",
    "tweet_list = pd.read_csv('TweetTest_Unmatched.csv')"
   ]
  },
  {
   "cell_type": "code",
   "execution_count": 3,
   "metadata": {
    "collapsed": true
   },
   "outputs": [],
   "source": [
    "# This function goes through each entry in location_list and looks for it in the passed string\n",
    "# When it finds a match, it returns the associated lat-long as a dict\n",
    "# It ignores case. If there are multiple matches only the last one will be returned\n",
    "\n",
    "def check_landmark(test_string):\n",
    "    result = {'lat':'NONE','lon':'NONE'}\n",
    "    for landmark in location_list.itertuples():\n",
    "        if str(landmark[1]).lower() in test_string.lower():\n",
    "            result = {'lat':landmark[4],'lon':landmark[5]}\n",
    "    return result"
   ]
  },
  {
   "cell_type": "code",
   "execution_count": 4,
   "metadata": {
    "collapsed": true
   },
   "outputs": [],
   "source": [
    "# This function replaces any missing lat-long values, if check_landmark returns a match\n",
    "# 'NONE' is filled in if no location match was found\n",
    "\n",
    "def fill_in_locations(df, lat_col=3, lon_col=4):\n",
    "    for row in df.itertuples():\n",
    "        idx = row[0]\n",
    "        location = check_landmark(str(row[3]))\n",
    "        if (row[4]==0 or row[5]==0):\n",
    "            df.iloc[idx,lat_col] = location['lat']\n",
    "            df.iloc[idx,lon_col] = location['lon']"
   ]
  },
  {
   "cell_type": "code",
   "execution_count": 5,
   "metadata": {
    "collapsed": true
   },
   "outputs": [],
   "source": [
    "# This function goes through each entry in category_list and looks for it in the passed string\n",
    "# When it finds a match, it returns the associated category name\n",
    "# It ignores case. If there are multiple matches only the last one will be returned\n",
    "\n",
    "def check_category(test_string):\n",
    "    result = 'NONE'\n",
    "    for keyword in category_list.itertuples():\n",
    "        if str(keyword[1]).lower() in test_string.lower():\n",
    "            result = keyword[2]\n",
    "    return result"
   ]
  },
  {
   "cell_type": "code",
   "execution_count": 6,
   "metadata": {
    "collapsed": true
   },
   "outputs": [],
   "source": [
    "# This function replace any missing categories, if check_category returns a match\n",
    "\n",
    "def fill_in_categories(df, cat_col=5):\n",
    "    for row in df.itertuples():\n",
    "        idx = row[0]\n",
    "        category = check_category(str(row[3]))\n",
    "        if row[6]=='NONE':\n",
    "            df.iloc[idx,cat_col] = category"
   ]
  },
  {
   "cell_type": "code",
   "execution_count": 7,
   "metadata": {
    "collapsed": true
   },
   "outputs": [],
   "source": [
    "# Now run both functions to replace everything\n",
    "\n",
    "fill_in_categories(tweet_list)\n",
    "fill_in_locations(tweet_list)"
   ]
  },
  {
   "cell_type": "code",
   "execution_count": 9,
   "metadata": {
    "collapsed": false
   },
   "outputs": [
    {
     "data": {
      "text/html": [
       "<div>\n",
       "<table border=\"1\" class=\"dataframe\">\n",
       "  <thead>\n",
       "    <tr style=\"text-align: right;\">\n",
       "      <th></th>\n",
       "      <th>id</th>\n",
       "      <th>created</th>\n",
       "      <th>text</th>\n",
       "      <th>lat</th>\n",
       "      <th>long</th>\n",
       "      <th>category</th>\n",
       "      <th>geom</th>\n",
       "    </tr>\n",
       "  </thead>\n",
       "  <tbody>\n",
       "    <tr>\n",
       "      <th>0</th>\n",
       "      <td>7.088640e+17</td>\n",
       "      <td>3/13/2016 3:57</td>\n",
       "      <td>06:56 @KenyaRedCross bad accident on Waiyaki W...</td>\n",
       "      <td>-1.262821</td>\n",
       "      <td>36.7648</td>\n",
       "      <td>accident</td>\n",
       "      <td>SRID=4326;POINT(-1.262821 36.764784)</td>\n",
       "    </tr>\n",
       "    <tr>\n",
       "      <th>1</th>\n",
       "      <td>7.088560e+17</td>\n",
       "      <td>3/13/2016 3:24</td>\n",
       "      <td>06:23 ma3route there is an accident along msa ...</td>\n",
       "      <td>-1.180448</td>\n",
       "      <td>36.9391</td>\n",
       "      <td>accident</td>\n",
       "      <td>SRID=4326;POINT(-1.180448 36.939088)</td>\n",
       "    </tr>\n",
       "    <tr>\n",
       "      <th>2</th>\n",
       "      <td>7.088020e+17</td>\n",
       "      <td>3/12/2016 23:48</td>\n",
       "      <td>02:47 Accident, Langata road. Pedestrian kille...</td>\n",
       "      <td>-1.249806</td>\n",
       "      <td>36.8468</td>\n",
       "      <td>accident</td>\n",
       "      <td>SRID=4326;POINT(-1.249806 36.846795)</td>\n",
       "    </tr>\n",
       "    <tr>\n",
       "      <th>3</th>\n",
       "      <td>7.087740e+17</td>\n",
       "      <td>3/12/2016 21:56</td>\n",
       "      <td>00:55 are people blowing on KIAMBU ROAD? via @...</td>\n",
       "      <td>NONE</td>\n",
       "      <td>NONE</td>\n",
       "      <td>NONE</td>\n",
       "      <td>SRID=4326;POINT(NONE NONE)</td>\n",
       "    </tr>\n",
       "    <tr>\n",
       "      <th>4</th>\n",
       "      <td>7.087630e+17</td>\n",
       "      <td>3/12/2016 21:14</td>\n",
       "      <td>00:14 someone knocked down and died on the spo...</td>\n",
       "      <td>NONE</td>\n",
       "      <td>NONE</td>\n",
       "      <td>NONE</td>\n",
       "      <td>SRID=4326;POINT(NONE NONE)</td>\n",
       "    </tr>\n",
       "    <tr>\n",
       "      <th>5</th>\n",
       "      <td>7.087610e+17</td>\n",
       "      <td>3/12/2016 21:07</td>\n",
       "      <td>00:07 accident at the Junction towards Carnivo...</td>\n",
       "      <td>-1.298857</td>\n",
       "      <td>36.7621</td>\n",
       "      <td>accident</td>\n",
       "      <td>SRID=4326;POINT(-1.298857 36.762126)</td>\n",
       "    </tr>\n",
       "    <tr>\n",
       "      <th>6</th>\n",
       "      <td>7.087590e+17</td>\n",
       "      <td>3/12/2016 20:58</td>\n",
       "      <td>23:57 @IkeOjuok The inhuman acts by police are...</td>\n",
       "      <td>NONE</td>\n",
       "      <td>NONE</td>\n",
       "      <td>NONE</td>\n",
       "      <td>SRID=4326;POINT(NONE NONE)</td>\n",
       "    </tr>\n",
       "    <tr>\n",
       "      <th>7</th>\n",
       "      <td>7.087540e+17</td>\n",
       "      <td>3/12/2016 20:37</td>\n",
       "      <td>23:37 SHARE and remind a family member or a fr...</td>\n",
       "      <td>NONE</td>\n",
       "      <td>NONE</td>\n",
       "      <td>NONE</td>\n",
       "      <td>SRID=4326;POINT(NONE NONE)</td>\n",
       "    </tr>\n",
       "    <tr>\n",
       "      <th>8</th>\n",
       "      <td>7.087480e+17</td>\n",
       "      <td>3/12/2016 20:16</td>\n",
       "      <td>23:15 FYA  https://t.co/zf57m5lq2P via @IkeOjuok</td>\n",
       "      <td>NONE</td>\n",
       "      <td>NONE</td>\n",
       "      <td>NONE</td>\n",
       "      <td>SRID=4326;POINT(NONE NONE)</td>\n",
       "    </tr>\n",
       "    <tr>\n",
       "      <th>9</th>\n",
       "      <td>7.087480e+17</td>\n",
       "      <td>3/12/2016 20:15</td>\n",
       "      <td>23:15 The wreckage of the #SubuigaAccident  ht...</td>\n",
       "      <td>-1.249806</td>\n",
       "      <td>36.8468</td>\n",
       "      <td>accident</td>\n",
       "      <td>SRID=4326;POINT(-1.249806 36.846795)</td>\n",
       "    </tr>\n",
       "  </tbody>\n",
       "</table>\n",
       "</div>"
      ],
      "text/plain": [
       "             id          created  \\\n",
       "0  7.088640e+17   3/13/2016 3:57   \n",
       "1  7.088560e+17   3/13/2016 3:24   \n",
       "2  7.088020e+17  3/12/2016 23:48   \n",
       "3  7.087740e+17  3/12/2016 21:56   \n",
       "4  7.087630e+17  3/12/2016 21:14   \n",
       "5  7.087610e+17  3/12/2016 21:07   \n",
       "6  7.087590e+17  3/12/2016 20:58   \n",
       "7  7.087540e+17  3/12/2016 20:37   \n",
       "8  7.087480e+17  3/12/2016 20:16   \n",
       "9  7.087480e+17  3/12/2016 20:15   \n",
       "\n",
       "                                                text        lat     long  \\\n",
       "0  06:56 @KenyaRedCross bad accident on Waiyaki W...  -1.262821  36.7648   \n",
       "1  06:23 ma3route there is an accident along msa ...  -1.180448  36.9391   \n",
       "2  02:47 Accident, Langata road. Pedestrian kille...  -1.249806  36.8468   \n",
       "3  00:55 are people blowing on KIAMBU ROAD? via @...       NONE     NONE   \n",
       "4  00:14 someone knocked down and died on the spo...       NONE     NONE   \n",
       "5  00:07 accident at the Junction towards Carnivo...  -1.298857  36.7621   \n",
       "6  23:57 @IkeOjuok The inhuman acts by police are...       NONE     NONE   \n",
       "7  23:37 SHARE and remind a family member or a fr...       NONE     NONE   \n",
       "8   23:15 FYA  https://t.co/zf57m5lq2P via @IkeOjuok       NONE     NONE   \n",
       "9  23:15 The wreckage of the #SubuigaAccident  ht...  -1.249806  36.8468   \n",
       "\n",
       "   category                                  geom  \n",
       "0  accident  SRID=4326;POINT(-1.262821 36.764784)  \n",
       "1  accident  SRID=4326;POINT(-1.180448 36.939088)  \n",
       "2  accident  SRID=4326;POINT(-1.249806 36.846795)  \n",
       "3      NONE            SRID=4326;POINT(NONE NONE)  \n",
       "4      NONE            SRID=4326;POINT(NONE NONE)  \n",
       "5  accident  SRID=4326;POINT(-1.298857 36.762126)  \n",
       "6      NONE            SRID=4326;POINT(NONE NONE)  \n",
       "7      NONE            SRID=4326;POINT(NONE NONE)  \n",
       "8      NONE            SRID=4326;POINT(NONE NONE)  \n",
       "9  accident  SRID=4326;POINT(-1.249806 36.846795)  "
      ]
     },
     "execution_count": 9,
     "metadata": {},
     "output_type": "execute_result"
    }
   ],
   "source": [
    "# Add a column required by the database\n",
    "tweet_list['geom'] = \"\"\n",
    "for row in tweet_list.itertuples():\n",
    "    idx = row[0]\n",
    "    tweet_list.iloc[idx,6] = \"SRID=4326;POINT(\" + str(row[4]) + \" \" + str(row[5]) + \")\"\n",
    "tweet_list[:10]"
   ]
  },
  {
   "cell_type": "code",
   "execution_count": 11,
   "metadata": {
    "collapsed": false
   },
   "outputs": [],
   "source": [
    "#Output to CSV\n",
    "\n",
    "tweet_list.to_csv('matched_tweets2.csv', index=False)"
   ]
  },
  {
   "cell_type": "code",
   "execution_count": null,
   "metadata": {
    "collapsed": false
   },
   "outputs": [],
   "source": [
    "# Check to see how many we fixed\n",
    "\n",
    "m=0\n",
    "n=0\n",
    "for row in tweet_list.itertuples():\n",
    "    if row[4]=='NONE' or row[5]=='NONE':\n",
    "        m+=1\n",
    "    else:\n",
    "        n+=1\n",
    "\n",
    "print str(n)+\" have lat-long data, \"+str(m)+\" don't\""
   ]
  },
  {
   "cell_type": "code",
   "execution_count": null,
   "metadata": {
    "collapsed": false
   },
   "outputs": [],
   "source": [
    "i=0\n",
    "j=0\n",
    "for row in tweet_list.itertuples():\n",
    "    if row[6]=='NONE':\n",
    "        i+=1\n",
    "    else:\n",
    "        j+=1\n",
    "print str(j)+\" have a category, \"+str(i)+\" do not\""
   ]
  },
  {
   "cell_type": "code",
   "execution_count": null,
   "metadata": {
    "collapsed": true
   },
   "outputs": [],
   "source": []
  }
 ],
 "metadata": {
  "kernelspec": {
   "display_name": "Python 2",
   "language": "python",
   "name": "python2"
  },
  "language_info": {
   "codemirror_mode": {
    "name": "ipython",
    "version": 2
   },
   "file_extension": ".py",
   "mimetype": "text/x-python",
   "name": "python",
   "nbconvert_exporter": "python",
   "pygments_lexer": "ipython2",
   "version": "2.7.11"
  }
 },
 "nbformat": 4,
 "nbformat_minor": 0
}
