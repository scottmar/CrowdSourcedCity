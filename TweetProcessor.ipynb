{
 "cells": [
  {
   "cell_type": "code",
   "execution_count": 1,
   "metadata": {
    "collapsed": true
   },
   "outputs": [],
   "source": [
    "import pandas as pd"
   ]
  },
  {
   "cell_type": "code",
   "execution_count": 2,
   "metadata": {
    "collapsed": true
   },
   "outputs": [],
   "source": [
    "# import the files as dataframes\n",
    "\n",
    "location_list = pd.read_csv('LMFull.csv')\n",
    "category_list = pd.read_csv('tweet_categories.csv')\n",
    "tweet_list = pd.read_csv('TweetTest_Unmatched.csv')"
   ]
  },
  {
   "cell_type": "code",
   "execution_count": 3,
   "metadata": {
    "collapsed": true
   },
   "outputs": [],
   "source": [
    "# This function goes through each entry in location_list and looks for it in the passed string\n",
    "# When it finds a match, it returns the associated lat-long as a dict\n",
    "# It ignores case. If there are multiple matches only the last one will be returned\n",
    "\n",
    "def check_landmark(test_string):\n",
    "    result = {'lat':'NONE','lon':'NONE'}\n",
    "    for landmark in location_list.itertuples():\n",
    "        if str(landmark[1]).lower() in test_string.lower():\n",
    "            result = {'lat':landmark[4],'lon':landmark[5]}\n",
    "    return result"
   ]
  },
  {
   "cell_type": "code",
   "execution_count": 4,
   "metadata": {
    "collapsed": true
   },
   "outputs": [],
   "source": [
    "# This function replaces any missing lat-long values, if check_landmark returns a match\n",
    "# 'NONE' is filled in if no location match was found\n",
    "\n",
    "def fill_in_locations(df, lat_col=3, lon_col=4):\n",
    "    for row in df.itertuples():\n",
    "        idx = row[0]\n",
    "        location = check_landmark(str(row[3]))\n",
    "        if (row[4]==0 or row[5]==0):\n",
    "            df.iloc[idx,lat_col] = location['lat']\n",
    "            df.iloc[idx,lon_col] = location['lon']"
   ]
  },
  {
   "cell_type": "code",
   "execution_count": 5,
   "metadata": {
    "collapsed": true
   },
   "outputs": [],
   "source": [
    "# This function goes through each entry in category_list and looks for it in the passed string\n",
    "# When it finds a match, it returns the associated category name\n",
    "# It ignores case. If there are multiple matches only the last one will be returned\n",
    "\n",
    "def check_category(test_string):\n",
    "    result = 'NONE'\n",
    "    for keyword in category_list.itertuples():\n",
    "        if str(keyword[1]).lower() in test_string.lower():\n",
    "            result = keyword[2]\n",
    "    return result"
   ]
  },
  {
   "cell_type": "code",
   "execution_count": 6,
   "metadata": {
    "collapsed": true
   },
   "outputs": [],
   "source": [
    "# This function replace any missing categories, if check_category returns a match\n",
    "\n",
    "def fill_in_categories(df, cat_col=5):\n",
    "    for row in df.itertuples():\n",
    "        idx = row[0]\n",
    "        category = check_category(str(row[3]))\n",
    "        if row[6]=='NONE':\n",
    "            df.iloc[idx,cat_col] = category"
   ]
  },
  {
   "cell_type": "code",
   "execution_count": 7,
   "metadata": {
    "collapsed": true
   },
   "outputs": [],
   "source": [
    "# Now run both functions to replace everything\n",
    "\n",
    "fill_in_categories(tweet_list)\n",
    "fill_in_locations(tweet_list)"
   ]
  },
  {
   "cell_type": "code",
   "execution_count": 8,
   "metadata": {
    "collapsed": false
   },
   "outputs": [],
   "source": [
    "# Add a column required by the database\n",
    "tweet_list['geom'] = \"\"\n",
    "for row in tweet_list.itertuples():\n",
    "    idx = row[0]\n",
    "    tweet_list.iloc[idx,6] = \"SRID=4326;POINT(\" + str(row[4]) + \" \" + str(row[5]) + \")\"\n",
    "# tweet_list[:10]"
   ]
  },
  {
   "cell_type": "code",
   "execution_count": 9,
   "metadata": {
    "collapsed": false
   },
   "outputs": [],
   "source": [
    "#Output to CSV\n",
    "\n",
    "tweet_list.to_csv('matched_tweets.csv', index=False)"
   ]
  },
  {
   "cell_type": "code",
   "execution_count": null,
   "metadata": {
    "collapsed": false
   },
   "outputs": [],
   "source": [
    "# Check to see how many we fixed\n",
    "\n",
    "m=0\n",
    "n=0\n",
    "for row in tweet_list.itertuples():\n",
    "    if row[4]=='NONE' or row[5]=='NONE':\n",
    "        m+=1\n",
    "    else:\n",
    "        n+=1\n",
    "\n",
    "print str(n)+\" have lat-long data, \"+str(m)+\" don't\""
   ]
  },
  {
   "cell_type": "code",
   "execution_count": null,
   "metadata": {
    "collapsed": false
   },
   "outputs": [],
   "source": [
    "i=0\n",
    "j=0\n",
    "for row in tweet_list.itertuples():\n",
    "    if row[6]=='NONE':\n",
    "        i+=1\n",
    "    else:\n",
    "        j+=1\n",
    "print str(j)+\" have a category, \"+str(i)+\" do not\""
   ]
  },
  {
   "cell_type": "code",
   "execution_count": null,
   "metadata": {
    "collapsed": true
   },
   "outputs": [],
   "source": []
  }
 ],
 "metadata": {
  "kernelspec": {
   "display_name": "Python 2",
   "language": "python",
   "name": "python2"
  },
  "language_info": {
   "codemirror_mode": {
    "name": "ipython",
    "version": 2
   },
   "file_extension": ".py",
   "mimetype": "text/x-python",
   "name": "python",
   "nbconvert_exporter": "python",
   "pygments_lexer": "ipython2",
   "version": "2.7.11"
  }
 },
 "nbformat": 4,
 "nbformat_minor": 0
}
